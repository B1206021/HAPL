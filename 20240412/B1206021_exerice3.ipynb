{
  "nbformat": 4,
  "nbformat_minor": 0,
  "metadata": {
    "colab": {
      "provenance": []
    },
    "kernelspec": {
      "name": "python3",
      "display_name": "Python 3"
    },
    "language_info": {
      "name": "python"
    }
  },
  "cells": [
    {
      "cell_type": "code",
      "execution_count": 36,
      "metadata": {
        "colab": {
          "base_uri": "https://localhost:8080/"
        },
        "id": "OhGL2oBAy6HZ",
        "outputId": "5d3468bf-7d9b-45fc-92ca-5efe22d60fa2"
      },
      "outputs": [
        {
          "output_type": "stream",
          "name": "stdout",
          "text": [
            "請輸入您的身高(cm):157\n",
            "請輸入您的體重(kg):55\n",
            "您的BMI是 22.313278429145196 體位屬於適中\n"
          ]
        }
      ],
      "source": [
        "str1=input(\"請輸入您的身高(cm):\")\n",
        "str2=input(\"請輸入您的體重(kg):\")\n",
        "a=int(str1)\n",
        "b=a/100\n",
        "c=int(str2)\n",
        "bmi=c/(b*b)\n",
        "if bmi<18.5:\n",
        "  print(\"您的BMI是\" ,bmi,\"體位屬於過輕\")\n",
        "elif 18.5<=bmi<24:\n",
        "  print(\"您的BMI是\" ,bmi,\"體位屬於適中\")\n",
        "elif 24<=d<27:\n",
        "  print(\"您的BMI是\" ,bmi,\"體位屬於過重\")\n",
        "else:\n",
        "  print(\"您的BMI是\",bmi,\"體位屬於肥胖\")\n"
      ]
    },
    {
      "cell_type": "code",
      "source": [
        "a=float(input(\"請輸入第一個數字:\"))\n",
        "b=input(\"請輸入運算符號:\")\n",
        "c=float(input(\"請輸入第二個數字:\"))\n",
        "if b=='+':\n",
        "  answer=a+c\n",
        "elif b=='-':\n",
        "  answer=a-c\n",
        "elif b=='*':\n",
        "  answer=a*c\n",
        "elif b=='/':\n",
        "  answer=a/c\n",
        "print(answer)\n",
        "\n",
        "\n"
      ],
      "metadata": {
        "colab": {
          "base_uri": "https://localhost:8080/"
        },
        "id": "xaiWpWcS4Xzh",
        "outputId": "44f1e41a-cd04-4d32-9f60-11a65c080bfc"
      },
      "execution_count": 35,
      "outputs": [
        {
          "output_type": "stream",
          "name": "stdout",
          "text": [
            "請輸入第一個數字:6\n",
            "請輸入運算符號:-\n",
            "請輸入第二個數字:8\n",
            "-2.0\n"
          ]
        }
      ]
    }
  ]
}