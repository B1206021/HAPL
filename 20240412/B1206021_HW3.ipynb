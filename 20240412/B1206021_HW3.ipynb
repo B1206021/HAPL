{
  "nbformat": 4,
  "nbformat_minor": 0,
  "metadata": {
    "colab": {
      "provenance": []
    },
    "kernelspec": {
      "name": "python3",
      "display_name": "Python 3"
    },
    "language_info": {
      "name": "python"
    }
  },
  "cells": [
    {
      "cell_type": "code",
      "execution_count": 9,
      "metadata": {
        "colab": {
          "base_uri": "https://localhost:8080/"
        },
        "id": "cVA25mDWa3Xx",
        "outputId": "bafe38c3-c411-42de-ca1e-c6138c2ccc90"
      },
      "outputs": [
        {
          "output_type": "stream",
          "name": "stdout",
          "text": [
            "請輸入年份1700\n",
            "該年是平年\n"
          ]
        }
      ],
      "source": [
        "year=int(input(\"請輸入年份\"))\n",
        "if year <=1582:\n",
        "  if (year%4==0):\n",
        "    print(\"該年是閏年\")\n",
        "  else:\n",
        "    print(\"該年是平年\")\n",
        "else:\n",
        "  if(year%4==0) and (year%100!=0) or (year%400==0):\n",
        "    print(\"該年是閏年\")\n",
        "  else:\n",
        "    print(\"該年是平年\")\n",
        "\n"
      ]
    }
  ]
}