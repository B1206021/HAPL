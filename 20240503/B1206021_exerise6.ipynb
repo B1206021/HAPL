{
  "nbformat": 4,
  "nbformat_minor": 0,
  "metadata": {
    "colab": {
      "provenance": []
    },
    "kernelspec": {
      "name": "python3",
      "display_name": "Python 3"
    },
    "language_info": {
      "name": "python"
    }
  },
  "cells": [
    {
      "cell_type": "code",
      "source": [
        "def tree(height):\n",
        "    tree=\"\"\n",
        "    for a in range(height):\n",
        "        tree+=(\" \" * (height - a - 1) + \"*\" * (2 * a + 1))\n",
        "        if a<height-1:\n",
        "            tree+=\"\\n\"\n",
        "    return tree\n",
        "def treetrunk():\n",
        "    trunk=\"\"\n",
        "    width=3\n",
        "    height=5\n",
        "    for _ in range(height):\n",
        "        trunk+=(\"     \"  *  (width - 1)+\"*\"*3)+\"\\n\"\n",
        "    return trunk\n",
        "try:\n",
        "    treeheight=int(input(\"請輸入聖誕樹的層數：\"))\n",
        "    if treeheight<7:\n",
        "        print(\"聖誕樹層數不可小於7層，請重新輸入。\")\n",
        "    else:\n",
        "        print(tree(treeheight))\n",
        "        print(treetrunk())\n",
        "except:\n",
        "    print(\"請重新輸入聖誕樹層數\")"
      ],
      "metadata": {
        "colab": {
          "base_uri": "https://localhost:8080/"
        },
        "id": "zskZEcDnnd-W",
        "outputId": "ad3de980-c8e3-453f-fcd2-fd9ca6c59362"
      },
      "execution_count": 115,
      "outputs": [
        {
          "output_type": "stream",
          "name": "stdout",
          "text": [
            "請輸入聖誕樹的層數：13\n",
            "            *\n",
            "           ***\n",
            "          *****\n",
            "         *******\n",
            "        *********\n",
            "       ***********\n",
            "      *************\n",
            "     ***************\n",
            "    *****************\n",
            "   *******************\n",
            "  *********************\n",
            " ***********************\n",
            "*************************\n",
            "          ***\n",
            "          ***\n",
            "          ***\n",
            "          ***\n",
            "          ***\n",
            "\n"
          ]
        }
      ]
    },
    {
      "cell_type": "code",
      "source": [
        "def BMI(height,weight):\n",
        "  bmi=weight/(height*height/10000)\n",
        "  result=\"\"\n",
        "  if bmi<18.5:\n",
        "      result=\"過輕\"\n",
        "  elif bmi<24.5:\n",
        "      result=\"適中\"\n",
        "  elif bmi<27:\n",
        "      result=\"過重\"\n",
        "  else:\n",
        "      result=\"肥胖\"\n",
        "  return bmi,result\n",
        "try:\n",
        "  height=float(input(\"請輸入您的身高(cm):\"))\n",
        "  weight=float(input(\"請輸入您的體重(kg):\"))\n",
        "  bmi,result=BMI(height,weight)\n",
        "  print(\"BMI:\",bmi)\n",
        "  print(\"體位:\",result)\n",
        "except:\n",
        " print(\"輸入的內容錯誤\")"
      ],
      "metadata": {
        "colab": {
          "base_uri": "https://localhost:8080/"
        },
        "id": "pioowMym1p8A",
        "outputId": "9e24ed69-4b38-4342-d7db-501af0301520"
      },
      "execution_count": 140,
      "outputs": [
        {
          "output_type": "stream",
          "name": "stdout",
          "text": [
            "請輸入您的身高(cm):123\n",
            "請輸入您的體重(kg):23\n",
            "BMI: 15.202591050300748\n",
            "體位: 過輕\n"
          ]
        }
      ]
    }
  ]
}