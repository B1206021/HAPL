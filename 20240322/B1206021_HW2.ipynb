{
  "nbformat": 4,
  "nbformat_minor": 0,
  "metadata": {
    "colab": {
      "provenance": []
    },
    "kernelspec": {
      "name": "python3",
      "display_name": "Python 3"
    },
    "language_info": {
      "name": "python"
    }
  },
  "cells": [
    {
      "cell_type": "code",
      "execution_count": 1,
      "metadata": {
        "colab": {
          "base_uri": "https://localhost:8080/"
        },
        "id": "SGj7ySHBuHBu",
        "outputId": "7b156554-da64-4fa9-b61c-12311ec0914d"
      },
      "outputs": [
        {
          "output_type": "stream",
          "name": "stdout",
          "text": [
            "A\n",
            "['K', 'H', 'U']\n"
          ]
        }
      ],
      "source": [
        "a='C,B,A'\n",
        "b=['F','G','H']\n",
        "x=a.split(',')\n",
        "y=x+b\n",
        "y[0]='K'\n",
        "print(y[2])\n",
        "del y[1:5]\n",
        "y.append('U')\n",
        "print(y)"
      ]
    },
    {
      "cell_type": "code",
      "source": [
        "a=input(\"請輸入任意的八位數字\")\n",
        "print(\"這個八位數字的第五個數字是\",a[4])"
      ],
      "metadata": {
        "colab": {
          "base_uri": "https://localhost:8080/"
        },
        "id": "HnWIiKIJzAA7",
        "outputId": "2027ee4f-a36a-41f0-bfaa-a74df35f1df9"
      },
      "execution_count": 4,
      "outputs": [
        {
          "output_type": "stream",
          "name": "stdout",
          "text": [
            "請輸入任意的八位數字12345678\n",
            "這個八位數字的第五個數字是 5\n"
          ]
        }
      ]
    },
    {
      "cell_type": "code",
      "source": [
        "a='My ID is B1206021'\n",
        "b=a.split(' ')\n",
        "print(b,\"上述這個字串總共有\",len(b),\"個字\")\n",
        "print(a[9:17],\"上述的ID總共有\",len(a[9:17]),\"個元素\")"
      ],
      "metadata": {
        "colab": {
          "base_uri": "https://localhost:8080/"
        },
        "id": "w01XqkUDzAmT",
        "outputId": "01f2906d-1f92-459d-fb24-5b0ffb379d26"
      },
      "execution_count": 6,
      "outputs": [
        {
          "output_type": "stream",
          "name": "stdout",
          "text": [
            "['My', 'ID', 'is', 'B1206021'] 上述這個字串總共有 4 個字\n",
            "B1206021 上述的ID總共有 8 個元素\n"
          ]
        }
      ]
    },
    {
      "cell_type": "code",
      "source": [
        "a=\"I'm a student\"\n",
        "b=list(a)\n",
        "print(b[2])"
      ],
      "metadata": {
        "colab": {
          "base_uri": "https://localhost:8080/"
        },
        "id": "yodIuY1K6aIz",
        "outputId": "052f1acf-14bf-45b8-9fae-f4034735e7a8"
      },
      "execution_count": null,
      "outputs": [
        {
          "output_type": "stream",
          "name": "stdout",
          "text": [
            "m\n"
          ]
        }
      ]
    }
  ]
}