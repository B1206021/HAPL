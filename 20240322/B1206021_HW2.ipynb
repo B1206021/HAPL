{
  "nbformat": 4,
  "nbformat_minor": 0,
  "metadata": {
    "colab": {
      "provenance": []
    },
    "kernelspec": {
      "name": "python3",
      "display_name": "Python 3"
    },
    "language_info": {
      "name": "python"
    }
  },
  "cells": [
    {
      "cell_type": "code",
      "execution_count": 83,
      "metadata": {
        "colab": {
          "base_uri": "https://localhost:8080/"
        },
        "id": "SGj7ySHBuHBu",
        "outputId": "761a762b-a045-4ac6-9521-6564a60e4fe8"
      },
      "outputs": [
        {
          "output_type": "stream",
          "name": "stdout",
          "text": [
            "['K', 'B', 'A', 'F', 'G', 'H']\n",
            "A\n",
            "['K', 'H']\n",
            "['K', 'H', 'U']\n"
          ]
        }
      ],
      "source": [
        "a='C,B,A'\n",
        "b=['F','G','H']\n",
        "x=a.split(',')\n",
        "y=x+b\n",
        "y[0]='K'\n",
        "print(y)\n",
        "print(y[2])\n",
        "del y[1:5]\n",
        "print(y)\n",
        "y.append('U')\n",
        "print(y)"
      ]
    },
    {
      "cell_type": "code",
      "source": [
        "a=input(\"請輸入任意的八位數字\")\n",
        "print(a[4])"
      ],
      "metadata": {
        "colab": {
          "base_uri": "https://localhost:8080/"
        },
        "id": "HnWIiKIJzAA7",
        "outputId": "e13e0e2b-e326-44da-efe7-80a52cfac39a"
      },
      "execution_count": 64,
      "outputs": [
        {
          "output_type": "stream",
          "name": "stdout",
          "text": [
            "請輸入任意的八位數字12345678\n",
            "5\n"
          ]
        }
      ]
    },
    {
      "cell_type": "code",
      "source": [
        "a='My ID is B1206021'\n",
        "b=a.split(' ')\n",
        "print(b,len(b))\n",
        "print(a[9:17],len(a[9:17]))"
      ],
      "metadata": {
        "colab": {
          "base_uri": "https://localhost:8080/"
        },
        "id": "w01XqkUDzAmT",
        "outputId": "4f0175cb-7c47-473b-bc30-73f1898ac4bd"
      },
      "execution_count": 54,
      "outputs": [
        {
          "output_type": "stream",
          "name": "stdout",
          "text": [
            "['My', 'ID', 'is', 'B1206021'] 4\n",
            "B1206021 8\n"
          ]
        }
      ]
    },
    {
      "cell_type": "code",
      "source": [
        "a=\"I'm a student\"\n",
        "b=list(a)\n",
        "print(b[2])"
      ],
      "metadata": {
        "colab": {
          "base_uri": "https://localhost:8080/"
        },
        "id": "yodIuY1K6aIz",
        "outputId": "052f1acf-14bf-45b8-9fae-f4034735e7a8"
      },
      "execution_count": 58,
      "outputs": [
        {
          "output_type": "stream",
          "name": "stdout",
          "text": [
            "m\n"
          ]
        }
      ]
    }
  ]
}