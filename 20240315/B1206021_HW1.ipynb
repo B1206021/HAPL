{
  "nbformat": 4,
  "nbformat_minor": 0,
  "metadata": {
    "colab": {
      "provenance": []
    },
    "kernelspec": {
      "name": "python3",
      "display_name": "Python 3"
    },
    "language_info": {
      "name": "python"
    }
  },
  "cells": [
    {
      "cell_type": "code",
      "execution_count": null,
      "metadata": {
        "colab": {
          "base_uri": "https://localhost:8080/"
        },
        "id": "qAI57kI3c8tN",
        "outputId": "5c443862-738e-466a-d9dd-9742d13408ae"
      },
      "outputs": [
        {
          "output_type": "stream",
          "name": "stdout",
          "text": [
            "I'm a student\n"
          ]
        }
      ],
      "source": [
        "a=\"I'm a student\"\n",
        "print(a)"
      ]
    },
    {
      "cell_type": "code",
      "source": [
        "str1=input(\"請輸入A點的x座標\")\n",
        "str2=input(\"請輸入A點的y座標\")\n",
        "print(\"A的座標點是:\",str1,str2)\n",
        "str3=input(\"請輸入B點的x座標\")\n",
        "str4=input(\"請輸入B點的y座標\")\n",
        "print(\"B的座標點是:\",str3,str4)\n",
        "x1=int(str1)\n",
        "y1=int(str2)\n",
        "x2=int(str3)\n",
        "y2=int(str4)\n",
        "z1=(x2-x1)**2\n",
        "z2=(y2-y1)**2\n",
        "z3=z1+z2\n",
        "print(\"A點與B點之間的距離為\",z3**0.5)\n",
        "\n"
      ],
      "metadata": {
        "colab": {
          "base_uri": "https://localhost:8080/"
        },
        "id": "LcNi4hS1dago",
        "outputId": "4f9fb538-6b7f-42ce-e804-5955ae272858"
      },
      "execution_count": 58,
      "outputs": [
        {
          "output_type": "stream",
          "name": "stdout",
          "text": [
            "請輸入A點的x座標1\n",
            "請輸入A點的y座標0\n",
            "A的座標點是: 1 0\n",
            "請輸入B點的x座標0\n",
            "請輸入B點的y座標1\n",
            "B的座標點是: 0 1\n",
            "A點與B點之間的距離為 1.4142135623730951\n"
          ]
        }
      ]
    },
    {
      "cell_type": "code",
      "source": [
        "str1=input(\"請輸入您的身高(cm):\")\n",
        "str2=input(\"請輸入您的體重(kg):\")\n",
        "a=int(str1)\n",
        "b=a/100\n",
        "c=int(str2)\n",
        "bmi=c/(b*b)\n",
        "print(\"您的BMI是\",bmi)\n",
        "\n"
      ],
      "metadata": {
        "colab": {
          "base_uri": "https://localhost:8080/"
        },
        "id": "XNiDBYRosP8Z",
        "outputId": "cb89aa41-3af1-4c54-f9a6-8c2099f1f569"
      },
      "execution_count": 56,
      "outputs": [
        {
          "output_type": "stream",
          "name": "stdout",
          "text": [
            "請輸入您的身高(cm):123\n",
            "請輸入您的體重(kg):32\n",
            "您的BMI是 21.15143102650539\n"
          ]
        }
      ]
    }
  ]
}