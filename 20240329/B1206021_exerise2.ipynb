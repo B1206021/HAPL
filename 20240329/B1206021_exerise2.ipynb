{
  "nbformat": 4,
  "nbformat_minor": 0,
  "metadata": {
    "colab": {
      "provenance": []
    },
    "kernelspec": {
      "name": "python3",
      "display_name": "Python 3"
    },
    "language_info": {
      "name": "python"
    }
  },
  "cells": [
    {
      "cell_type": "code",
      "execution_count": 38,
      "metadata": {
        "colab": {
          "base_uri": "https://localhost:8080/"
        },
        "id": "YH7Rv0U2wSvb",
        "outputId": "6a5be0e8-1724-46c3-89c3-fe18e2fc6a7b"
      },
      "outputs": [
        {
          "output_type": "stream",
          "name": "stdout",
          "text": [
            "{'姓名': '賴宏瑋', '性別': '男', '作業分數': [100, 100, 90], '學號': 'M1129020'}\n",
            "<class 'dict'>\n",
            "96.66666666666667\n",
            "<class 'float'>\n"
          ]
        }
      ],
      "source": [
        "a={'姓名':'賴宏瑋','性別':'男','作業分數':[80,95,100,90]}\n",
        "b=a.setdefault('學號','M1129020')\n",
        "a['作業分數'][1]=100\n",
        "del a['作業分數'][0]\n",
        "print(a)\n",
        "print(type(a))\n",
        "c=a.pop('作業分數')\n",
        "d=sum(c)/3\n",
        "print(d)\n",
        "print(type(d))\n",
        "\n"
      ]
    },
    {
      "cell_type": "code",
      "source": [],
      "metadata": {
        "id": "abaGNxFN42jF"
      },
      "execution_count": null,
      "outputs": []
    }
  ]
}