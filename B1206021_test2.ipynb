{
  "nbformat": 4,
  "nbformat_minor": 0,
  "metadata": {
    "colab": {
      "provenance": []
    },
    "kernelspec": {
      "name": "python3",
      "display_name": "Python 3"
    },
    "language_info": {
      "name": "python"
    }
  },
  "cells": [
    {
      "cell_type": "code",
      "execution_count": 2,
      "metadata": {
        "colab": {
          "base_uri": "https://localhost:8080/"
        },
        "id": "oBdde-5wwGbk",
        "outputId": "c21e2fa7-270d-4294-aa62-c7b319a9cdbf"
      },
      "outputs": [
        {
          "output_type": "stream",
          "name": "stdout",
          "text": [
            "Answer is = 11.11111111111111\n"
          ]
        }
      ],
      "source": [
        "y=4\n",
        "a=(2*y+1)\n",
        "b=(100/a)\n",
        "print(\"Answer is =\",b)\n"
      ]
    },
    {
      "cell_type": "code",
      "source": [
        "x=2\n",
        "y=1\n",
        "a=2*x+y\n",
        "b=100-y\n",
        "c=a*b\n",
        "print(\"Answer is =\",c)\n"
      ],
      "metadata": {
        "colab": {
          "base_uri": "https://localhost:8080/"
        },
        "id": "-WJdOGaAwpV6",
        "outputId": "4848f93f-9f18-4935-ea2f-eed449f5b7a0"
      },
      "execution_count": 1,
      "outputs": [
        {
          "output_type": "stream",
          "name": "stdout",
          "text": [
            "Answer is = 495\n"
          ]
        }
      ]
    }
  ]
}